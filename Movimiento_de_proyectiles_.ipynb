{
  "nbformat": 4,
  "nbformat_minor": 0,
  "metadata": {
    "colab": {
      "provenance": [],
      "authorship_tag": "ABX9TyN/581rw4kn40qVnSq8p3hP",
      "include_colab_link": true
    },
    "kernelspec": {
      "name": "python3",
      "display_name": "Python 3"
    },
    "language_info": {
      "name": "python"
    },
    "widgets": {
      "application/vnd.jupyter.widget-state+json": {
        "6a82fa2aecfb45ada38eb5ffde916e88": {
          "model_module": "@jupyter-widgets/controls",
          "model_name": "VBoxModel",
          "model_module_version": "1.5.0",
          "state": {
            "_dom_classes": [
              "widget-interact"
            ],
            "_model_module": "@jupyter-widgets/controls",
            "_model_module_version": "1.5.0",
            "_model_name": "VBoxModel",
            "_view_count": null,
            "_view_module": "@jupyter-widgets/controls",
            "_view_module_version": "1.5.0",
            "_view_name": "VBoxView",
            "box_style": "",
            "children": [
              "IPY_MODEL_134529fcdc164c02b47b1bc9f2bd2864",
              "IPY_MODEL_17538b544b754122bfb4e5ea52a10b7c",
              "IPY_MODEL_f824d3f620764c1eb493774babf2f413",
              "IPY_MODEL_b2559f5d88d44c4bbf0b4fb362bbacfe"
            ],
            "layout": "IPY_MODEL_1b08cdf54429431981e0bd41347816d1"
          }
        },
        "134529fcdc164c02b47b1bc9f2bd2864": {
          "model_module": "@jupyter-widgets/controls",
          "model_name": "FloatSliderModel",
          "model_module_version": "1.5.0",
          "state": {
            "_dom_classes": [],
            "_model_module": "@jupyter-widgets/controls",
            "_model_module_version": "1.5.0",
            "_model_name": "FloatSliderModel",
            "_view_count": null,
            "_view_module": "@jupyter-widgets/controls",
            "_view_module_version": "1.5.0",
            "_view_name": "FloatSliderView",
            "continuous_update": true,
            "description": "Velocidad Inicial (m/s)",
            "description_tooltip": null,
            "disabled": false,
            "layout": "IPY_MODEL_c258283324bc4e9692fb4f2509d19e9f",
            "max": 100,
            "min": 1,
            "orientation": "horizontal",
            "readout": true,
            "readout_format": ".2f",
            "step": 1,
            "style": "IPY_MODEL_c208eda85e8e47a88a8d769c48fc92a8",
            "value": 35
          }
        },
        "17538b544b754122bfb4e5ea52a10b7c": {
          "model_module": "@jupyter-widgets/controls",
          "model_name": "IntSliderModel",
          "model_module_version": "1.5.0",
          "state": {
            "_dom_classes": [],
            "_model_module": "@jupyter-widgets/controls",
            "_model_module_version": "1.5.0",
            "_model_name": "IntSliderModel",
            "_view_count": null,
            "_view_module": "@jupyter-widgets/controls",
            "_view_module_version": "1.5.0",
            "_view_name": "IntSliderView",
            "continuous_update": true,
            "description": "Ángulo (grados)",
            "description_tooltip": null,
            "disabled": false,
            "layout": "IPY_MODEL_c8ebe4638f8a4c24860a9508b7762849",
            "max": 90,
            "min": 0,
            "orientation": "horizontal",
            "readout": true,
            "readout_format": "d",
            "step": 1,
            "style": "IPY_MODEL_e0a692eae29d45f1841ddc08883b2cb4",
            "value": 45
          }
        },
        "f824d3f620764c1eb493774babf2f413": {
          "model_module": "@jupyter-widgets/controls",
          "model_name": "FloatSliderModel",
          "model_module_version": "1.5.0",
          "state": {
            "_dom_classes": [],
            "_model_module": "@jupyter-widgets/controls",
            "_model_module_version": "1.5.0",
            "_model_name": "FloatSliderModel",
            "_view_count": null,
            "_view_module": "@jupyter-widgets/controls",
            "_view_module_version": "1.5.0",
            "_view_name": "FloatSliderView",
            "continuous_update": true,
            "description": "Altura Inicial (m)",
            "description_tooltip": null,
            "disabled": false,
            "layout": "IPY_MODEL_8f6b2137d79049dc8899bade733f439e",
            "max": 100,
            "min": 0,
            "orientation": "horizontal",
            "readout": true,
            "readout_format": ".2f",
            "step": 1,
            "style": "IPY_MODEL_ba53344c9a684c059e256c497a3fac83",
            "value": 0
          }
        },
        "b2559f5d88d44c4bbf0b4fb362bbacfe": {
          "model_module": "@jupyter-widgets/output",
          "model_name": "OutputModel",
          "model_module_version": "1.0.0",
          "state": {
            "_dom_classes": [],
            "_model_module": "@jupyter-widgets/output",
            "_model_module_version": "1.0.0",
            "_model_name": "OutputModel",
            "_view_count": null,
            "_view_module": "@jupyter-widgets/output",
            "_view_module_version": "1.0.0",
            "_view_name": "OutputView",
            "layout": "IPY_MODEL_41b798f9089f401284643c147fd1cda8",
            "msg_id": "",
            "outputs": [
              {
                "output_type": "display_data",
                "data": {
                  "text/plain": "<IPython.core.display.Markdown object>",
                  "text/markdown": "### Ecuaciones de Posición"
                },
                "metadata": {}
              },
              {
                "output_type": "display_data",
                "data": {
                  "text/plain": "<IPython.core.display.Math object>",
                  "text/latex": "$\\displaystyle x(t) = (v_0 \\cos \\theta) t$"
                },
                "metadata": {}
              },
              {
                "output_type": "display_data",
                "data": {
                  "text/plain": "<IPython.core.display.Math object>",
                  "text/latex": "$\\displaystyle y(t) = h_0 + (v_0 \\sin \\theta) t - \\frac{1}{2} g t^2$"
                },
                "metadata": {}
              },
              {
                "output_type": "display_data",
                "data": {
                  "text/plain": "<IPython.core.display.Markdown object>",
                  "text/markdown": "### Ecuaciones de Velocidad"
                },
                "metadata": {}
              },
              {
                "output_type": "display_data",
                "data": {
                  "text/plain": "<IPython.core.display.Math object>",
                  "text/latex": "$\\displaystyle v_x(t) = v_0 \\cos \\theta \\quad \\text{(constante)}$"
                },
                "metadata": {}
              },
              {
                "output_type": "display_data",
                "data": {
                  "text/plain": "<IPython.core.display.Math object>",
                  "text/latex": "$\\displaystyle v_y(t) = v_0 \\sin \\theta - g t$"
                },
                "metadata": {}
              },
              {
                "output_type": "display_data",
                "data": {
                  "text/plain": "<IPython.core.display.Markdown object>",
                  "text/markdown": "### Ecuaciones de Aceleración"
                },
                "metadata": {}
              },
              {
                "output_type": "display_data",
                "data": {
                  "text/plain": "<IPython.core.display.Math object>",
                  "text/latex": "$\\displaystyle a_x = 0$"
                },
                "metadata": {}
              },
              {
                "output_type": "display_data",
                "data": {
                  "text/plain": "<IPython.core.display.Math object>",
                  "text/latex": "$\\displaystyle a_y = -g$"
                },
                "metadata": {}
              },
              {
                "output_type": "display_data",
                "data": {
                  "text/plain": "<Figure size 1000x1800 with 3 Axes>",
                  "image/png": "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\n"
                },
                "metadata": {}
              },
              {
                "output_type": "stream",
                "name": "stdout",
                "text": [
                  "\n",
                  "--- Resumen de Ecuaciones y Cálculos Clave ---\n"
                ]
              },
              {
                "output_type": "display_data",
                "data": {
                  "text/plain": "<IPython.core.display.Markdown object>",
                  "text/markdown": "**Condiciones Iniciales:**"
                },
                "metadata": {}
              },
              {
                "output_type": "display_data",
                "data": {
                  "text/plain": "<IPython.core.display.Math object>",
                  "text/latex": "$\\displaystyle v_0 = 35.00\\, \\text{m/s}$"
                },
                "metadata": {}
              },
              {
                "output_type": "display_data",
                "data": {
                  "text/plain": "<IPython.core.display.Math object>",
                  "text/latex": "$\\displaystyle \\theta = 45.00° \\approx 0.79\\, \\text{rad}$"
                },
                "metadata": {}
              },
              {
                "output_type": "display_data",
                "data": {
                  "text/plain": "<IPython.core.display.Math object>",
                  "text/latex": "$\\displaystyle h_0 = 0.00\\, \\text{m}$"
                },
                "metadata": {}
              },
              {
                "output_type": "display_data",
                "data": {
                  "text/plain": "<IPython.core.display.Math object>",
                  "text/latex": "$\\displaystyle g = 9.81\\, \\text{m/s}^2$"
                },
                "metadata": {}
              },
              {
                "output_type": "display_data",
                "data": {
                  "text/plain": "<IPython.core.display.Markdown object>",
                  "text/markdown": "\n**Tiempo de Vuelo ($T$)**"
                },
                "metadata": {}
              },
              {
                "output_type": "display_data",
                "data": {
                  "text/plain": "<IPython.core.display.Math object>",
                  "text/latex": "$\\displaystyle \\text{Se calcula resolviendo: } h_0 + (v_0 \\sin \\theta) T - \\frac{1}{2} g T^2 = 0$"
                },
                "metadata": {}
              },
              {
                "output_type": "display_data",
                "data": {
                  "text/plain": "<IPython.core.display.Markdown object>",
                  "text/markdown": "**Resultado:** $T = 5.05\\, \\text{s}$"
                },
                "metadata": {}
              },
              {
                "output_type": "display_data",
                "data": {
                  "text/plain": "<IPython.core.display.Markdown object>",
                  "text/markdown": "\n**Alcance Máximo Horizontal ($R$)**"
                },
                "metadata": {}
              },
              {
                "output_type": "display_data",
                "data": {
                  "text/plain": "<IPython.core.display.Math object>",
                  "text/latex": "$\\displaystyle R = (v_0 \\cos \\theta) T$"
                },
                "metadata": {}
              },
              {
                "output_type": "display_data",
                "data": {
                  "text/plain": "<IPython.core.display.Markdown object>",
                  "text/markdown": "**Resultado:** $R = 124.87\\, \\text{m}$"
                },
                "metadata": {}
              },
              {
                "output_type": "display_data",
                "data": {
                  "text/plain": "<IPython.core.display.Markdown object>",
                  "text/markdown": "\n**Altura Máxima ($H_<built-in function max>$)**"
                },
                "metadata": {}
              },
              {
                "output_type": "display_data",
                "data": {
                  "text/plain": "<IPython.core.display.Math object>",
                  "text/latex": "$\\displaystyle H_{max} = h_0 + \\frac{(v_0 \\sin \\theta)^2}{2g} \\quad \\text{(si } v_0 \\sin \\theta \\ge 0 \\text{)}$"
                },
                "metadata": {}
              },
              {
                "output_type": "display_data",
                "data": {
                  "text/plain": "<IPython.core.display.Math object>",
                  "text/latex": "$\\displaystyle \\text{Si } v_0 \\sin \\theta < 0 \\text{ (se lanza hacia abajo), } H_{max} = h_0$"
                },
                "metadata": {}
              },
              {
                "output_type": "display_data",
                "data": {
                  "text/plain": "<IPython.core.display.Markdown object>",
                  "text/markdown": "**Resultado:** $H_<built-in function max> = 31.22\\, \\text{m}$"
                },
                "metadata": {}
              }
            ]
          }
        },
        "1b08cdf54429431981e0bd41347816d1": {
          "model_module": "@jupyter-widgets/base",
          "model_name": "LayoutModel",
          "model_module_version": "1.2.0",
          "state": {
            "_model_module": "@jupyter-widgets/base",
            "_model_module_version": "1.2.0",
            "_model_name": "LayoutModel",
            "_view_count": null,
            "_view_module": "@jupyter-widgets/base",
            "_view_module_version": "1.2.0",
            "_view_name": "LayoutView",
            "align_content": null,
            "align_items": null,
            "align_self": null,
            "border": null,
            "bottom": null,
            "display": null,
            "flex": null,
            "flex_flow": null,
            "grid_area": null,
            "grid_auto_columns": null,
            "grid_auto_flow": null,
            "grid_auto_rows": null,
            "grid_column": null,
            "grid_gap": null,
            "grid_row": null,
            "grid_template_areas": null,
            "grid_template_columns": null,
            "grid_template_rows": null,
            "height": null,
            "justify_content": null,
            "justify_items": null,
            "left": null,
            "margin": null,
            "max_height": null,
            "max_width": null,
            "min_height": null,
            "min_width": null,
            "object_fit": null,
            "object_position": null,
            "order": null,
            "overflow": null,
            "overflow_x": null,
            "overflow_y": null,
            "padding": null,
            "right": null,
            "top": null,
            "visibility": null,
            "width": null
          }
        },
        "c258283324bc4e9692fb4f2509d19e9f": {
          "model_module": "@jupyter-widgets/base",
          "model_name": "LayoutModel",
          "model_module_version": "1.2.0",
          "state": {
            "_model_module": "@jupyter-widgets/base",
            "_model_module_version": "1.2.0",
            "_model_name": "LayoutModel",
            "_view_count": null,
            "_view_module": "@jupyter-widgets/base",
            "_view_module_version": "1.2.0",
            "_view_name": "LayoutView",
            "align_content": null,
            "align_items": null,
            "align_self": null,
            "border": null,
            "bottom": null,
            "display": null,
            "flex": null,
            "flex_flow": null,
            "grid_area": null,
            "grid_auto_columns": null,
            "grid_auto_flow": null,
            "grid_auto_rows": null,
            "grid_column": null,
            "grid_gap": null,
            "grid_row": null,
            "grid_template_areas": null,
            "grid_template_columns": null,
            "grid_template_rows": null,
            "height": null,
            "justify_content": null,
            "justify_items": null,
            "left": null,
            "margin": null,
            "max_height": null,
            "max_width": null,
            "min_height": null,
            "min_width": null,
            "object_fit": null,
            "object_position": null,
            "order": null,
            "overflow": null,
            "overflow_x": null,
            "overflow_y": null,
            "padding": null,
            "right": null,
            "top": null,
            "visibility": null,
            "width": null
          }
        },
        "c208eda85e8e47a88a8d769c48fc92a8": {
          "model_module": "@jupyter-widgets/controls",
          "model_name": "SliderStyleModel",
          "model_module_version": "1.5.0",
          "state": {
            "_model_module": "@jupyter-widgets/controls",
            "_model_module_version": "1.5.0",
            "_model_name": "SliderStyleModel",
            "_view_count": null,
            "_view_module": "@jupyter-widgets/base",
            "_view_module_version": "1.2.0",
            "_view_name": "StyleView",
            "description_width": "",
            "handle_color": null
          }
        },
        "c8ebe4638f8a4c24860a9508b7762849": {
          "model_module": "@jupyter-widgets/base",
          "model_name": "LayoutModel",
          "model_module_version": "1.2.0",
          "state": {
            "_model_module": "@jupyter-widgets/base",
            "_model_module_version": "1.2.0",
            "_model_name": "LayoutModel",
            "_view_count": null,
            "_view_module": "@jupyter-widgets/base",
            "_view_module_version": "1.2.0",
            "_view_name": "LayoutView",
            "align_content": null,
            "align_items": null,
            "align_self": null,
            "border": null,
            "bottom": null,
            "display": null,
            "flex": null,
            "flex_flow": null,
            "grid_area": null,
            "grid_auto_columns": null,
            "grid_auto_flow": null,
            "grid_auto_rows": null,
            "grid_column": null,
            "grid_gap": null,
            "grid_row": null,
            "grid_template_areas": null,
            "grid_template_columns": null,
            "grid_template_rows": null,
            "height": null,
            "justify_content": null,
            "justify_items": null,
            "left": null,
            "margin": null,
            "max_height": null,
            "max_width": null,
            "min_height": null,
            "min_width": null,
            "object_fit": null,
            "object_position": null,
            "order": null,
            "overflow": null,
            "overflow_x": null,
            "overflow_y": null,
            "padding": null,
            "right": null,
            "top": null,
            "visibility": null,
            "width": null
          }
        },
        "e0a692eae29d45f1841ddc08883b2cb4": {
          "model_module": "@jupyter-widgets/controls",
          "model_name": "SliderStyleModel",
          "model_module_version": "1.5.0",
          "state": {
            "_model_module": "@jupyter-widgets/controls",
            "_model_module_version": "1.5.0",
            "_model_name": "SliderStyleModel",
            "_view_count": null,
            "_view_module": "@jupyter-widgets/base",
            "_view_module_version": "1.2.0",
            "_view_name": "StyleView",
            "description_width": "",
            "handle_color": null
          }
        },
        "8f6b2137d79049dc8899bade733f439e": {
          "model_module": "@jupyter-widgets/base",
          "model_name": "LayoutModel",
          "model_module_version": "1.2.0",
          "state": {
            "_model_module": "@jupyter-widgets/base",
            "_model_module_version": "1.2.0",
            "_model_name": "LayoutModel",
            "_view_count": null,
            "_view_module": "@jupyter-widgets/base",
            "_view_module_version": "1.2.0",
            "_view_name": "LayoutView",
            "align_content": null,
            "align_items": null,
            "align_self": null,
            "border": null,
            "bottom": null,
            "display": null,
            "flex": null,
            "flex_flow": null,
            "grid_area": null,
            "grid_auto_columns": null,
            "grid_auto_flow": null,
            "grid_auto_rows": null,
            "grid_column": null,
            "grid_gap": null,
            "grid_row": null,
            "grid_template_areas": null,
            "grid_template_columns": null,
            "grid_template_rows": null,
            "height": null,
            "justify_content": null,
            "justify_items": null,
            "left": null,
            "margin": null,
            "max_height": null,
            "max_width": null,
            "min_height": null,
            "min_width": null,
            "object_fit": null,
            "object_position": null,
            "order": null,
            "overflow": null,
            "overflow_x": null,
            "overflow_y": null,
            "padding": null,
            "right": null,
            "top": null,
            "visibility": null,
            "width": null
          }
        },
        "ba53344c9a684c059e256c497a3fac83": {
          "model_module": "@jupyter-widgets/controls",
          "model_name": "SliderStyleModel",
          "model_module_version": "1.5.0",
          "state": {
            "_model_module": "@jupyter-widgets/controls",
            "_model_module_version": "1.5.0",
            "_model_name": "SliderStyleModel",
            "_view_count": null,
            "_view_module": "@jupyter-widgets/base",
            "_view_module_version": "1.2.0",
            "_view_name": "StyleView",
            "description_width": "",
            "handle_color": null
          }
        },
        "41b798f9089f401284643c147fd1cda8": {
          "model_module": "@jupyter-widgets/base",
          "model_name": "LayoutModel",
          "model_module_version": "1.2.0",
          "state": {
            "_model_module": "@jupyter-widgets/base",
            "_model_module_version": "1.2.0",
            "_model_name": "LayoutModel",
            "_view_count": null,
            "_view_module": "@jupyter-widgets/base",
            "_view_module_version": "1.2.0",
            "_view_name": "LayoutView",
            "align_content": null,
            "align_items": null,
            "align_self": null,
            "border": null,
            "bottom": null,
            "display": null,
            "flex": null,
            "flex_flow": null,
            "grid_area": null,
            "grid_auto_columns": null,
            "grid_auto_flow": null,
            "grid_auto_rows": null,
            "grid_column": null,
            "grid_gap": null,
            "grid_row": null,
            "grid_template_areas": null,
            "grid_template_columns": null,
            "grid_template_rows": null,
            "height": null,
            "justify_content": null,
            "justify_items": null,
            "left": null,
            "margin": null,
            "max_height": null,
            "max_width": null,
            "min_height": null,
            "min_width": null,
            "object_fit": null,
            "object_position": null,
            "order": null,
            "overflow": null,
            "overflow_x": null,
            "overflow_y": null,
            "padding": null,
            "right": null,
            "top": null,
            "visibility": null,
            "width": null
          }
        }
      }
    }
  },
  "cells": [
    {
      "cell_type": "markdown",
      "metadata": {
        "id": "view-in-github",
        "colab_type": "text"
      },
      "source": [
        "<a href=\"https://colab.research.google.com/github/kcast3/Simulaci-n/blob/main/Movimiento_de_proyectiles_.ipynb\" target=\"_parent\"><img src=\"https://colab.research.google.com/assets/colab-badge.svg\" alt=\"Open In Colab\"/></a>"
      ]
    },
    {
      "cell_type": "code",
      "source": [
        "# --- Celda 1: Instalación de Librerías ---\n",
        "# Necesitamos ipywidgets para los deslizadores interactivos.\n",
        "# Aseguramos que todas las librerías necesarias estén instaladas.\n",
        "!pip install numpy matplotlib ipywidgets\n",
        "print(\"Librerías instaladas y/o actualizadas.\")\n",
        "\n",
        "import numpy as np\n",
        "import matplotlib.pyplot as plt\n",
        "from IPython.display import display, Markdown, Math\n",
        "import ipywidgets as widgets\n",
        "from ipywidgets import interact, fixed\n",
        "\n",
        "# Se puede ajustar el límite de incrustación de animaciones si es necesario,\n",
        "# aunque para gráficas estáticas interactivas no es estrictamente necesario.\n",
        "# plt.rcParams['animation.embed_limit'] = 2**128\n",
        "print(\"Librerías importadas correctamente.\")\n",
        "\n",
        "\n",
        "# --- Celda 2: Definición de Parámetros y Ecuaciones ---\n",
        "\n",
        "g = 9.81  # Aceleración debido a la gravedad (m/s^2)\n",
        "\n",
        "def calcular_posicion(v0, theta, h0, t):\n",
        "    \"\"\"\n",
        "    Calcula la posición (x, y) de un proyectil en un tiempo 't' con altura inicial.\n",
        "    v0: Velocidad inicial (m/s)\n",
        "    theta: Ángulo de lanzamiento (radianes)\n",
        "    h0: Altura inicial (m)\n",
        "    t: Tiempo (s)\n",
        "    \"\"\"\n",
        "    x = v0 * np.cos(theta) * t\n",
        "    y = h0 + v0 * np.sin(theta) * t - 0.5 * g * t**2\n",
        "    return x, y\n",
        "\n",
        "def calcular_velocidad(v0, theta, t):\n",
        "    \"\"\"\n",
        "    Calcula la velocidad (vx, vy) de un proyectil en un tiempo 't'.\n",
        "    \"\"\"\n",
        "    vx = np.full_like(t, v0 * np.cos(theta)) # v_x es constante, se usa np.full_like para generar un array del mismo tamaño que t\n",
        "    vy = v0 * np.sin(theta) - g * t\n",
        "    return vx, vy\n",
        "\n",
        "def calcular_aceleracion():\n",
        "    \"\"\"\n",
        "    La aceleración en el movimiento de proyectiles es constante (ax=0, ay=-g).\n",
        "    \"\"\"\n",
        "    ax = 0\n",
        "    ay = -g\n",
        "    return ax, ay\n",
        "\n",
        "def calcular_tiempo_vuelo_con_altura(v0, theta, h0):\n",
        "    \"\"\"\n",
        "    Calcula el tiempo total de vuelo del proyectil, considerando una altura inicial h0.\n",
        "    Resuelve la ecuación cuadrática y = h0 + v0*sin(theta)*t - 0.5*g*t^2 = 0\n",
        "    \"\"\"\n",
        "    a = -0.5 * g\n",
        "    b = v0 * np.sin(theta)\n",
        "    c = h0\n",
        "    discriminante = b**2 - 4 * a * c\n",
        "\n",
        "    if discriminante < 0:\n",
        "        # Si el discriminante es negativo, no hay soluciones reales (el proyectil no llega a y=0).\n",
        "        # Esto puede ocurrir si el proyectil ya está por debajo de y=0 y se lanza hacia abajo,\n",
        "        # o si la trayectoria nunca cruza y=0.\n",
        "        return 0\n",
        "\n",
        "    t1 = (-b + np.sqrt(discriminante)) / (2 * a)\n",
        "    t2 = (-b - np.sqrt(discriminante)) / (2 * a)\n",
        "\n",
        "    # El tiempo de vuelo es el valor positivo más grande que sea relevante.\n",
        "    return max(t1, t2, 0)\n",
        "\n",
        "\n",
        "def calcular_alcance_maximo_con_altura(v0, theta, h0):\n",
        "    \"\"\"\n",
        "    Calcula el alcance horizontal máximo del proyectil con altura inicial.\n",
        "    \"\"\"\n",
        "    tiempo_vuelo = calcular_tiempo_vuelo_con_altura(v0, theta, h0)\n",
        "    alcance = v0 * np.cos(theta) * tiempo_vuelo\n",
        "    return alcance\n",
        "\n",
        "def calcular_altura_maxima(v0, theta, h0):\n",
        "    \"\"\"\n",
        "    Calcula la altura máxima alcanzada por el proyectil, considerando altura inicial.\n",
        "    \"\"\"\n",
        "    t_altura_max = (v0 * np.sin(theta)) / g\n",
        "\n",
        "    # Si el tiempo para la altura máxima es negativo (lo que significa que el proyectil\n",
        "    # fue lanzado hacia abajo desde el inicio), o si la componente vertical de la velocidad\n",
        "    # inicial es negativa, la altura máxima es la altura inicial.\n",
        "    if t_altura_max < 0 or (v0 * np.sin(theta) < 0):\n",
        "        return h0\n",
        "\n",
        "    return h0 + (v0**2 * np.sin(theta)**2) / (2 * g)\n",
        "\n",
        "print(\"Funciones de cálculo de movimiento de proyectiles definidas.\")\n",
        "\n",
        "# --- Celda 3: Función Principal de Simulación y Graficación (modificada para interactividad) ---\n",
        "\n",
        "def simular_proyectil_interactivo(v0, angulo_grados, h0):\n",
        "    \"\"\"\n",
        "    Realiza la simulación y grafica el movimiento del proyectil,\n",
        "    mostrando las ecuaciones relevantes. Esta función está diseñada para interactuar con ipywidgets.\n",
        "    v0: Velocidad inicial (m/s)\n",
        "    angulo_grados: Ángulo de lanzamiento (grados)\n",
        "    h0: Altura inicial (m)\n",
        "    \"\"\"\n",
        "    theta = np.deg2rad(angulo_grados)  # Convertir grados a radianes\n",
        "\n",
        "    tiempo_vuelo = calcular_tiempo_vuelo_con_altura(v0, theta, h0)\n",
        "\n",
        "    if tiempo_vuelo <= 0:\n",
        "        # Si el tiempo de vuelo es cero o negativo, creamos un rango de tiempo pequeño\n",
        "        # para que las gráficas no queden vacías.\n",
        "        t = np.linspace(0, 0.1, 2)\n",
        "    else:\n",
        "        t = np.linspace(0, tiempo_vuelo, 500)\n",
        "\n",
        "    x, y = calcular_posicion(v0, theta, h0, t)\n",
        "    vx, vy = calcular_velocidad(v0, theta, t)\n",
        "    ax, ay = calcular_aceleracion()\n",
        "\n",
        "    # --- Gráficas ---\n",
        "    # Cerramos cualquier figura anterior para evitar superposiciones al actualizar.\n",
        "    plt.close('all')\n",
        "    fig, axs = plt.subplots(3, 1, figsize=(10, 18)) # Ajustar figsize para más espacio\n",
        "\n",
        "    # Gráfica de Posición (Trayectoria)\n",
        "    axs[0].plot(x, y, 'b-', label='Trayectoria')\n",
        "    axs[0].plot(x[0], y[0], 'go', markersize=8, label='Inicio')\n",
        "    # Solo marcamos el punto final si el tiempo de vuelo es significativo\n",
        "    if tiempo_vuelo > 0.01:\n",
        "        axs[0].plot(x[-1], y[-1], 'ro', markersize=8, label='Fin (aterrizaje)')\n",
        "\n",
        "    axs[0].set_xlabel('Posición Horizontal (m)')\n",
        "    axs[0].set_ylabel('Posición Vertical (m)')\n",
        "    axs[0].set_title('Trayectoria del Proyectil')\n",
        "    axs[0].grid(True)\n",
        "    axs[0].axhline(0, color='black', linewidth=0.5) # Línea en y=0\n",
        "    axs[0].axvline(0, color='black', linewidth=0.5) # Línea en x=0\n",
        "\n",
        "    # Ajuste dinámico de los límites de los ejes para que la trayectoria se vea bien\n",
        "    x_max_plot = max(x) * 1.1 if len(x) > 0 and max(x) > 0 else 10 # Asegura un límite mínimo si x es 0 o negativo\n",
        "    y_max_plot = max(y) * 1.1 if len(y) > 0 and max(y) > h0 else h0 + 5 # Asegura un límite mínimo si y es solo h0\n",
        "    y_min_plot = min(y) * 1.1 if len(y) > 0 and min(y) < 0 else 0 # Permite ver caídas por debajo de 0\n",
        "\n",
        "    axs[0].set_xlim(0, x_max_plot)\n",
        "    axs[0].set_ylim(y_min_plot, y_max_plot)\n",
        "\n",
        "    axs[0].legend()\n",
        "    axs[0].set_aspect('equal', adjustable='box') # Mantiene la proporción para una trayectoria realista\n",
        "\n",
        "\n",
        "    # Mostrar ecuaciones de posición directamente debajo de la gráfica\n",
        "    display(Markdown(\"### Ecuaciones de Posición\"))\n",
        "    display(Math(r'x(t) = (v_0 \\cos \\theta) t'))\n",
        "    display(Math(r'y(t) = h_0 + (v_0 \\sin \\theta) t - \\frac{1}{2} g t^2'))\n",
        "\n",
        "    # Gráfica de Velocidad\n",
        "    axs[1].plot(t, vx, 'r--', label='Velocidad Horizontal ($v_x$)')\n",
        "    axs[1].plot(t, vy, 'b--', label='Velocidad Vertical ($v_y$)')\n",
        "    axs[1].set_xlabel('Tiempo (s)')\n",
        "    axs[1].set_ylabel('Velocidad (m/s)')\n",
        "    axs[1].set_title('Componentes de la Velocidad vs. Tiempo')\n",
        "    axs[1].grid(True)\n",
        "    axs[1].legend()\n",
        "\n",
        "    # Mostrar ecuaciones de velocidad\n",
        "    display(Markdown(\"### Ecuaciones de Velocidad\"))\n",
        "    display(Math(r'v_x(t) = v_0 \\cos \\theta \\quad \\text{(constante)}'))\n",
        "    display(Math(r'v_y(t) = v_0 \\sin \\theta - g t'))\n",
        "\n",
        "    # Gráfica de Aceleración\n",
        "    # Usamos [ax]*len(t) y [ay]*len(t) para crear arrays del mismo tamaño que t\n",
        "    # ya que plot() espera arrays.\n",
        "    axs[2].plot(t, [ax]*len(t), 'g:', label='Aceleración Horizontal ($a_x = 0$)')\n",
        "    axs[2].plot(t, [ay]*len(t), 'm:', label='Aceleración Vertical ($a_y = -g$)')\n",
        "    axs[2].set_xlabel('Tiempo (s)')\n",
        "    axs[2].set_ylabel('Aceleración (m/s^2)')\n",
        "    axs[2].set_title('Componentes de la Aceleración vs. Tiempo')\n",
        "    axs[2].grid(True)\n",
        "    axs[2].legend()\n",
        "    # Ajustamos los límites del eje y para la aceleración para que sea visible\n",
        "    axs[2].set_ylim(min(ay, -1) * 1.2, max(ax, 1) * 1.2)\n",
        "\n",
        "\n",
        "    # Mostrar ecuaciones de aceleración\n",
        "    display(Markdown(\"### Ecuaciones de Aceleración\"))\n",
        "    display(Math(r'a_x = 0'))\n",
        "    display(Math(r'a_y = -g'))\n",
        "\n",
        "    # Ajusta automáticamente los parámetros de la subtrama para que quepan\n",
        "    # sin superponerse a los títulos de las figuras o a los objetos x y y.\n",
        "    plt.tight_layout(rect=[0, 0.03, 1, 0.96])\n",
        "    plt.show() # Muestra las gráficas\n",
        "\n",
        "    # --- Resumen de Ecuaciones y Cálculos Clave ---\n",
        "    print(\"\\n--- Resumen de Ecuaciones y Cálculos Clave ---\")\n",
        "    display(Markdown(f\"**Condiciones Iniciales:**\"))\n",
        "    display(Math(f'v_0 = {v0:.2f}\\\\, \\\\text{{m/s}}'))\n",
        "    display(Math(f'\\\\theta = {angulo_grados:.2f}° \\\\approx {theta:.2f}\\\\, \\\\text{{rad}}'))\n",
        "    display(Math(f'h_0 = {h0:.2f}\\\\, \\\\text{{m}}'))\n",
        "    display(Math(f'g = {g:.2f}\\\\, \\\\text{{m/s}}^2'))\n",
        "\n",
        "    display(Markdown(f\"\\n**Tiempo de Vuelo ($T$)**\"))\n",
        "    display(Math(r'\\text{Se calcula resolviendo: } h_0 + (v_0 \\sin \\theta) T - \\frac{1}{2} g T^2 = 0'))\n",
        "    display(Markdown(f\"**Resultado:** $T = {calcular_tiempo_vuelo_con_altura(v0, theta, h0):.2f}\\\\, \\\\text{{s}}$\"))\n",
        "\n",
        "    display(Markdown(f\"\\n**Alcance Máximo Horizontal ($R$)**\"))\n",
        "    display(Math(r'R = (v_0 \\cos \\theta) T'))\n",
        "    display(Markdown(f\"**Resultado:** $R = {calcular_alcance_maximo_con_altura(v0, theta, h0):.2f}\\\\, \\\\text{{m}}$\"))\n",
        "\n",
        "    display(Markdown(f\"\\n**Altura Máxima ($H_{max}$)**\"))\n",
        "    display(Math(r'H_{max} = h_0 + \\frac{(v_0 \\sin \\theta)^2}{2g} \\quad \\text{(si } v_0 \\sin \\theta \\ge 0 \\text{)}'))\n",
        "    display(Math(r'\\text{Si } v_0 \\sin \\theta < 0 \\text{ (se lanza hacia abajo), } H_{max} = h_0'))\n",
        "    display(Markdown(f\"**Resultado:** $H_{max} = {calcular_altura_maxima(v0, theta, h0):.2f}\\\\, \\\\text{{m}}$\"))\n",
        "\n",
        "print(\"Función 'simular_proyectil_interactivo' definida y lista para usar.\")\n",
        "\n",
        "# --- Celda 4: Ejecución de la Simulación Interactiva ---\n",
        "\n",
        "# Mensaje de Bienvenida y Explicación\n",
        "display(Markdown(\"\"\"\n",
        "---\n",
        "### ¡Bienvenido al Simulador Interactivo de Proyectiles!\n",
        "\n",
        "Este programa te permite explorar de forma dinámica el movimiento de un proyectil. Podrás ajustar la **velocidad inicial**, el **ángulo de lanzamiento** y la **altura inicial** usando los deslizadores. Cada vez que muevas un deslizador, las gráficas de la trayectoria, velocidad y aceleración se actualizarán automáticamente, junto con los cálculos clave como el tiempo de vuelo, el alcance y la altura máxima. ¡Experimenta y observa cómo cambian los resultados con cada ajuste!\n",
        "---\n",
        "\"\"\"))\n",
        "\n",
        "print(\"Mueve los deslizadores para actualizar las gráficas y los cálculos en tiempo real:\")\n",
        "\n",
        "interact(simular_proyectil_interactivo,\n",
        "         v0=widgets.FloatSlider(min=1, max=100, step=1, value=35, description='Velocidad Inicial (m/s)'),\n",
        "         angulo_grados=widgets.IntSlider(min=0, max=90, step=1, value=45, description='Ángulo (grados)'),\n",
        "         h0=widgets.FloatSlider(min=0, max=100, step=1, value=0, description='Altura Inicial (m)'));"
      ],
      "metadata": {
        "colab": {
          "base_uri": "https://localhost:8080/",
          "height": 1000,
          "referenced_widgets": [
            "6a82fa2aecfb45ada38eb5ffde916e88",
            "134529fcdc164c02b47b1bc9f2bd2864",
            "17538b544b754122bfb4e5ea52a10b7c",
            "f824d3f620764c1eb493774babf2f413",
            "b2559f5d88d44c4bbf0b4fb362bbacfe",
            "1b08cdf54429431981e0bd41347816d1",
            "c258283324bc4e9692fb4f2509d19e9f",
            "c208eda85e8e47a88a8d769c48fc92a8",
            "c8ebe4638f8a4c24860a9508b7762849",
            "e0a692eae29d45f1841ddc08883b2cb4",
            "8f6b2137d79049dc8899bade733f439e",
            "ba53344c9a684c059e256c497a3fac83",
            "41b798f9089f401284643c147fd1cda8"
          ]
        },
        "id": "KftzmmodxTfG",
        "outputId": "692bf35d-6f75-4cf3-f58c-8b3df762de47"
      },
      "execution_count": 4,
      "outputs": [
        {
          "output_type": "stream",
          "name": "stdout",
          "text": [
            "Requirement already satisfied: numpy in /usr/local/lib/python3.11/dist-packages (2.0.2)\n",
            "Requirement already satisfied: matplotlib in /usr/local/lib/python3.11/dist-packages (3.10.0)\n",
            "Requirement already satisfied: ipywidgets in /usr/local/lib/python3.11/dist-packages (7.7.1)\n",
            "Requirement already satisfied: contourpy>=1.0.1 in /usr/local/lib/python3.11/dist-packages (from matplotlib) (1.3.2)\n",
            "Requirement already satisfied: cycler>=0.10 in /usr/local/lib/python3.11/dist-packages (from matplotlib) (0.12.1)\n",
            "Requirement already satisfied: fonttools>=4.22.0 in /usr/local/lib/python3.11/dist-packages (from matplotlib) (4.58.1)\n",
            "Requirement already satisfied: kiwisolver>=1.3.1 in /usr/local/lib/python3.11/dist-packages (from matplotlib) (1.4.8)\n",
            "Requirement already satisfied: packaging>=20.0 in /usr/local/lib/python3.11/dist-packages (from matplotlib) (24.2)\n",
            "Requirement already satisfied: pillow>=8 in /usr/local/lib/python3.11/dist-packages (from matplotlib) (11.2.1)\n",
            "Requirement already satisfied: pyparsing>=2.3.1 in /usr/local/lib/python3.11/dist-packages (from matplotlib) (3.2.3)\n",
            "Requirement already satisfied: python-dateutil>=2.7 in /usr/local/lib/python3.11/dist-packages (from matplotlib) (2.9.0.post0)\n",
            "Requirement already satisfied: ipykernel>=4.5.1 in /usr/local/lib/python3.11/dist-packages (from ipywidgets) (6.17.1)\n",
            "Requirement already satisfied: ipython-genutils~=0.2.0 in /usr/local/lib/python3.11/dist-packages (from ipywidgets) (0.2.0)\n",
            "Requirement already satisfied: traitlets>=4.3.1 in /usr/local/lib/python3.11/dist-packages (from ipywidgets) (5.7.1)\n",
            "Requirement already satisfied: widgetsnbextension~=3.6.0 in /usr/local/lib/python3.11/dist-packages (from ipywidgets) (3.6.10)\n",
            "Requirement already satisfied: ipython>=4.0.0 in /usr/local/lib/python3.11/dist-packages (from ipywidgets) (7.34.0)\n",
            "Requirement already satisfied: jupyterlab-widgets>=1.0.0 in /usr/local/lib/python3.11/dist-packages (from ipywidgets) (3.0.15)\n",
            "Requirement already satisfied: debugpy>=1.0 in /usr/local/lib/python3.11/dist-packages (from ipykernel>=4.5.1->ipywidgets) (1.8.0)\n",
            "Requirement already satisfied: jupyter-client>=6.1.12 in /usr/local/lib/python3.11/dist-packages (from ipykernel>=4.5.1->ipywidgets) (6.1.12)\n",
            "Requirement already satisfied: matplotlib-inline>=0.1 in /usr/local/lib/python3.11/dist-packages (from ipykernel>=4.5.1->ipywidgets) (0.1.7)\n",
            "Requirement already satisfied: nest-asyncio in /usr/local/lib/python3.11/dist-packages (from ipykernel>=4.5.1->ipywidgets) (1.6.0)\n",
            "Requirement already satisfied: psutil in /usr/local/lib/python3.11/dist-packages (from ipykernel>=4.5.1->ipywidgets) (5.9.5)\n",
            "Requirement already satisfied: pyzmq>=17 in /usr/local/lib/python3.11/dist-packages (from ipykernel>=4.5.1->ipywidgets) (24.0.1)\n",
            "Requirement already satisfied: tornado>=6.1 in /usr/local/lib/python3.11/dist-packages (from ipykernel>=4.5.1->ipywidgets) (6.4.2)\n",
            "Requirement already satisfied: setuptools>=18.5 in /usr/local/lib/python3.11/dist-packages (from ipython>=4.0.0->ipywidgets) (75.2.0)\n",
            "Requirement already satisfied: jedi>=0.16 in /usr/local/lib/python3.11/dist-packages (from ipython>=4.0.0->ipywidgets) (0.19.2)\n",
            "Requirement already satisfied: decorator in /usr/local/lib/python3.11/dist-packages (from ipython>=4.0.0->ipywidgets) (4.4.2)\n",
            "Requirement already satisfied: pickleshare in /usr/local/lib/python3.11/dist-packages (from ipython>=4.0.0->ipywidgets) (0.7.5)\n",
            "Requirement already satisfied: prompt-toolkit!=3.0.0,!=3.0.1,<3.1.0,>=2.0.0 in /usr/local/lib/python3.11/dist-packages (from ipython>=4.0.0->ipywidgets) (3.0.51)\n",
            "Requirement already satisfied: pygments in /usr/local/lib/python3.11/dist-packages (from ipython>=4.0.0->ipywidgets) (2.19.1)\n",
            "Requirement already satisfied: backcall in /usr/local/lib/python3.11/dist-packages (from ipython>=4.0.0->ipywidgets) (0.2.0)\n",
            "Requirement already satisfied: pexpect>4.3 in /usr/local/lib/python3.11/dist-packages (from ipython>=4.0.0->ipywidgets) (4.9.0)\n",
            "Requirement already satisfied: six>=1.5 in /usr/local/lib/python3.11/dist-packages (from python-dateutil>=2.7->matplotlib) (1.17.0)\n",
            "Requirement already satisfied: notebook>=4.4.1 in /usr/local/lib/python3.11/dist-packages (from widgetsnbextension~=3.6.0->ipywidgets) (6.5.7)\n",
            "Requirement already satisfied: parso<0.9.0,>=0.8.4 in /usr/local/lib/python3.11/dist-packages (from jedi>=0.16->ipython>=4.0.0->ipywidgets) (0.8.4)\n",
            "Requirement already satisfied: jupyter-core>=4.6.0 in /usr/local/lib/python3.11/dist-packages (from jupyter-client>=6.1.12->ipykernel>=4.5.1->ipywidgets) (5.8.1)\n",
            "Requirement already satisfied: jinja2 in /usr/local/lib/python3.11/dist-packages (from notebook>=4.4.1->widgetsnbextension~=3.6.0->ipywidgets) (3.1.6)\n",
            "Requirement already satisfied: argon2-cffi in /usr/local/lib/python3.11/dist-packages (from notebook>=4.4.1->widgetsnbextension~=3.6.0->ipywidgets) (25.1.0)\n",
            "Requirement already satisfied: nbformat in /usr/local/lib/python3.11/dist-packages (from notebook>=4.4.1->widgetsnbextension~=3.6.0->ipywidgets) (5.10.4)\n",
            "Requirement already satisfied: nbconvert>=5 in /usr/local/lib/python3.11/dist-packages (from notebook>=4.4.1->widgetsnbextension~=3.6.0->ipywidgets) (7.16.6)\n",
            "Requirement already satisfied: Send2Trash>=1.8.0 in /usr/local/lib/python3.11/dist-packages (from notebook>=4.4.1->widgetsnbextension~=3.6.0->ipywidgets) (1.8.3)\n",
            "Requirement already satisfied: terminado>=0.8.3 in /usr/local/lib/python3.11/dist-packages (from notebook>=4.4.1->widgetsnbextension~=3.6.0->ipywidgets) (0.18.1)\n",
            "Requirement already satisfied: prometheus-client in /usr/local/lib/python3.11/dist-packages (from notebook>=4.4.1->widgetsnbextension~=3.6.0->ipywidgets) (0.22.1)\n",
            "Requirement already satisfied: nbclassic>=0.4.7 in /usr/local/lib/python3.11/dist-packages (from notebook>=4.4.1->widgetsnbextension~=3.6.0->ipywidgets) (1.3.1)\n",
            "Requirement already satisfied: ptyprocess>=0.5 in /usr/local/lib/python3.11/dist-packages (from pexpect>4.3->ipython>=4.0.0->ipywidgets) (0.7.0)\n",
            "Requirement already satisfied: wcwidth in /usr/local/lib/python3.11/dist-packages (from prompt-toolkit!=3.0.0,!=3.0.1,<3.1.0,>=2.0.0->ipython>=4.0.0->ipywidgets) (0.2.13)\n",
            "Requirement already satisfied: platformdirs>=2.5 in /usr/local/lib/python3.11/dist-packages (from jupyter-core>=4.6.0->jupyter-client>=6.1.12->ipykernel>=4.5.1->ipywidgets) (4.3.8)\n",
            "Requirement already satisfied: notebook-shim>=0.2.3 in /usr/local/lib/python3.11/dist-packages (from nbclassic>=0.4.7->notebook>=4.4.1->widgetsnbextension~=3.6.0->ipywidgets) (0.2.4)\n",
            "Requirement already satisfied: beautifulsoup4 in /usr/local/lib/python3.11/dist-packages (from nbconvert>=5->notebook>=4.4.1->widgetsnbextension~=3.6.0->ipywidgets) (4.13.4)\n",
            "Requirement already satisfied: bleach!=5.0.0 in /usr/local/lib/python3.11/dist-packages (from bleach[css]!=5.0.0->nbconvert>=5->notebook>=4.4.1->widgetsnbextension~=3.6.0->ipywidgets) (6.2.0)\n",
            "Requirement already satisfied: defusedxml in /usr/local/lib/python3.11/dist-packages (from nbconvert>=5->notebook>=4.4.1->widgetsnbextension~=3.6.0->ipywidgets) (0.7.1)\n",
            "Requirement already satisfied: jupyterlab-pygments in /usr/local/lib/python3.11/dist-packages (from nbconvert>=5->notebook>=4.4.1->widgetsnbextension~=3.6.0->ipywidgets) (0.3.0)\n",
            "Requirement already satisfied: markupsafe>=2.0 in /usr/local/lib/python3.11/dist-packages (from nbconvert>=5->notebook>=4.4.1->widgetsnbextension~=3.6.0->ipywidgets) (3.0.2)\n",
            "Requirement already satisfied: mistune<4,>=2.0.3 in /usr/local/lib/python3.11/dist-packages (from nbconvert>=5->notebook>=4.4.1->widgetsnbextension~=3.6.0->ipywidgets) (3.1.3)\n",
            "Requirement already satisfied: nbclient>=0.5.0 in /usr/local/lib/python3.11/dist-packages (from nbconvert>=5->notebook>=4.4.1->widgetsnbextension~=3.6.0->ipywidgets) (0.10.2)\n",
            "Requirement already satisfied: pandocfilters>=1.4.1 in /usr/local/lib/python3.11/dist-packages (from nbconvert>=5->notebook>=4.4.1->widgetsnbextension~=3.6.0->ipywidgets) (1.5.1)\n",
            "Requirement already satisfied: fastjsonschema>=2.15 in /usr/local/lib/python3.11/dist-packages (from nbformat->notebook>=4.4.1->widgetsnbextension~=3.6.0->ipywidgets) (2.21.1)\n",
            "Requirement already satisfied: jsonschema>=2.6 in /usr/local/lib/python3.11/dist-packages (from nbformat->notebook>=4.4.1->widgetsnbextension~=3.6.0->ipywidgets) (4.24.0)\n",
            "Requirement already satisfied: argon2-cffi-bindings in /usr/local/lib/python3.11/dist-packages (from argon2-cffi->notebook>=4.4.1->widgetsnbextension~=3.6.0->ipywidgets) (21.2.0)\n",
            "Requirement already satisfied: webencodings in /usr/local/lib/python3.11/dist-packages (from bleach!=5.0.0->bleach[css]!=5.0.0->nbconvert>=5->notebook>=4.4.1->widgetsnbextension~=3.6.0->ipywidgets) (0.5.1)\n",
            "Requirement already satisfied: tinycss2<1.5,>=1.1.0 in /usr/local/lib/python3.11/dist-packages (from bleach[css]!=5.0.0->nbconvert>=5->notebook>=4.4.1->widgetsnbextension~=3.6.0->ipywidgets) (1.4.0)\n",
            "Requirement already satisfied: attrs>=22.2.0 in /usr/local/lib/python3.11/dist-packages (from jsonschema>=2.6->nbformat->notebook>=4.4.1->widgetsnbextension~=3.6.0->ipywidgets) (25.3.0)\n",
            "Requirement already satisfied: jsonschema-specifications>=2023.03.6 in /usr/local/lib/python3.11/dist-packages (from jsonschema>=2.6->nbformat->notebook>=4.4.1->widgetsnbextension~=3.6.0->ipywidgets) (2025.4.1)\n",
            "Requirement already satisfied: referencing>=0.28.4 in /usr/local/lib/python3.11/dist-packages (from jsonschema>=2.6->nbformat->notebook>=4.4.1->widgetsnbextension~=3.6.0->ipywidgets) (0.36.2)\n",
            "Requirement already satisfied: rpds-py>=0.7.1 in /usr/local/lib/python3.11/dist-packages (from jsonschema>=2.6->nbformat->notebook>=4.4.1->widgetsnbextension~=3.6.0->ipywidgets) (0.25.1)\n",
            "Requirement already satisfied: jupyter-server<3,>=1.8 in /usr/local/lib/python3.11/dist-packages (from notebook-shim>=0.2.3->nbclassic>=0.4.7->notebook>=4.4.1->widgetsnbextension~=3.6.0->ipywidgets) (1.16.0)\n",
            "Requirement already satisfied: cffi>=1.0.1 in /usr/local/lib/python3.11/dist-packages (from argon2-cffi-bindings->argon2-cffi->notebook>=4.4.1->widgetsnbextension~=3.6.0->ipywidgets) (1.17.1)\n",
            "Requirement already satisfied: soupsieve>1.2 in /usr/local/lib/python3.11/dist-packages (from beautifulsoup4->nbconvert>=5->notebook>=4.4.1->widgetsnbextension~=3.6.0->ipywidgets) (2.7)\n",
            "Requirement already satisfied: typing-extensions>=4.0.0 in /usr/local/lib/python3.11/dist-packages (from beautifulsoup4->nbconvert>=5->notebook>=4.4.1->widgetsnbextension~=3.6.0->ipywidgets) (4.14.0)\n",
            "Requirement already satisfied: pycparser in /usr/local/lib/python3.11/dist-packages (from cffi>=1.0.1->argon2-cffi-bindings->argon2-cffi->notebook>=4.4.1->widgetsnbextension~=3.6.0->ipywidgets) (2.22)\n",
            "Requirement already satisfied: anyio>=3.1.0 in /usr/local/lib/python3.11/dist-packages (from jupyter-server<3,>=1.8->notebook-shim>=0.2.3->nbclassic>=0.4.7->notebook>=4.4.1->widgetsnbextension~=3.6.0->ipywidgets) (4.9.0)\n",
            "Requirement already satisfied: websocket-client in /usr/local/lib/python3.11/dist-packages (from jupyter-server<3,>=1.8->notebook-shim>=0.2.3->nbclassic>=0.4.7->notebook>=4.4.1->widgetsnbextension~=3.6.0->ipywidgets) (1.8.0)\n",
            "Requirement already satisfied: idna>=2.8 in /usr/local/lib/python3.11/dist-packages (from anyio>=3.1.0->jupyter-server<3,>=1.8->notebook-shim>=0.2.3->nbclassic>=0.4.7->notebook>=4.4.1->widgetsnbextension~=3.6.0->ipywidgets) (3.10)\n",
            "Requirement already satisfied: sniffio>=1.1 in /usr/local/lib/python3.11/dist-packages (from anyio>=3.1.0->jupyter-server<3,>=1.8->notebook-shim>=0.2.3->nbclassic>=0.4.7->notebook>=4.4.1->widgetsnbextension~=3.6.0->ipywidgets) (1.3.1)\n",
            "Librerías instaladas y/o actualizadas.\n",
            "Librerías importadas correctamente.\n",
            "Funciones de cálculo de movimiento de proyectiles definidas.\n",
            "Función 'simular_proyectil_interactivo' definida y lista para usar.\n"
          ]
        },
        {
          "output_type": "display_data",
          "data": {
            "text/plain": [
              "<IPython.core.display.Markdown object>"
            ],
            "text/markdown": "\n---\n### ¡Bienvenido al Simulador Interactivo de Proyectiles!\n\nEste programa te permite explorar de forma dinámica el movimiento de un proyectil. Podrás ajustar la **velocidad inicial**, el **ángulo de lanzamiento** y la **altura inicial** usando los deslizadores. Cada vez que muevas un deslizador, las gráficas de la trayectoria, velocidad y aceleración se actualizarán automáticamente, junto con los cálculos clave como el tiempo de vuelo, el alcance y la altura máxima. ¡Experimenta y observa cómo cambian los resultados con cada ajuste!\n---\n"
          },
          "metadata": {}
        },
        {
          "output_type": "stream",
          "name": "stdout",
          "text": [
            "Mueve los deslizadores para actualizar las gráficas y los cálculos en tiempo real:\n"
          ]
        },
        {
          "output_type": "display_data",
          "data": {
            "text/plain": [
              "interactive(children=(FloatSlider(value=35.0, description='Velocidad Inicial (m/s)', min=1.0, step=1.0), IntSl…"
            ],
            "application/vnd.jupyter.widget-view+json": {
              "version_major": 2,
              "version_minor": 0,
              "model_id": "6a82fa2aecfb45ada38eb5ffde916e88"
            }
          },
          "metadata": {}
        }
      ]
    }
  ]
}